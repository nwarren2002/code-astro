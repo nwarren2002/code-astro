{
 "cells": [
  {
   "cell_type": "code",
   "execution_count": null,
   "id": "bb772a27-8d88-4685-bd78-3530ce496baa",
   "metadata": {},
   "outputs": [],
   "source": [
    "\n",
    "import numpy as np\n",
    "import matplotlib.pyplot as plt\n",
    "from astropy.io import fits\n",
    "import glob"
   ]
  },
  {
   "cell_type": "code",
   "execution_count": null,
   "id": "a8b18140-844b-4c7f-8d5b-d49888ba0c0d",
   "metadata": {},
   "outputs": [],
   "source": [
    "def actual_counts(bias_image):\n",
    "    return bias_image / 16 + 1"
   ]
  },
  {
   "cell_type": "code",
   "execution_count": null,
   "id": "231d1b37-985d-4f4b-89a8-2cc35d723d99",
   "metadata": {},
   "outputs": [],
   "source": [
    "directory_path = 'C:/naiya_rye_ - Copy/Bias'"
   ]
  },
  {
   "cell_type": "code",
   "execution_count": null,
   "id": "45722de7-7e7d-439c-bf3a-03b0d0ffef0e",
   "metadata": {},
   "outputs": [],
   "source": [
    "bias_images = glob.glob(os.path.join(directory_path, \"*.fit\"))\n",
    "\n",
    "image_data_list = []"
   ]
  },
  {
   "cell_type": "code",
   "execution_count": null,
   "id": "92da473f-d1c7-4d44-84f4-3a0d40320df2",
   "metadata": {},
   "outputs": [],
   "source": [
    "for file in bias_file:\n",
    "    with fits.open(file) as foo:\n",
    "        foo.info()\n",
    "        bias_image = foo[0].data  \n",
    "        fixed_image = actual_counts(bias_image)\n",
    "        image_data_list.append(fixed_image)\n",
    "        "
   ]
  },
  {
   "cell_type": "code",
   "execution_count": null,
   "id": "a88094a4-360c-45bd-8a99-acb1c5fb933f",
   "metadata": {},
   "outputs": [],
   "source": [
    "image_data_stack = np.array(image_data_list)\n",
    "average_image = np.mean(image_data_stack, axis=0)"
   ]
  },
  {
   "cell_type": "code",
   "execution_count": null,
   "id": "7afcb8ef-aeee-4905-8c88-f7d298d5852a",
   "metadata": {},
   "outputs": [],
   "source": [
    "plt.imshow(average_image, cmap='gray')\n",
    "plt.colorbar(label='Counts')\n",
    "plt.title('Average Bias Image: QHY 163M CMOS')\n",
    "plt.show()"
   ]
  },
  {
   "cell_type": "code",
   "execution_count": null,
   "id": "fc69e32a-4f61-4782-b98c-51ebdc63fc2a",
   "metadata": {},
   "outputs": [],
   "source": []
  }
 ],
 "metadata": {
  "kernelspec": {
   "display_name": "Python 3 (ipykernel)",
   "language": "python",
   "name": "python3"
  },
  "language_info": {
   "codemirror_mode": {
    "name": "ipython",
    "version": 3
   },
   "file_extension": ".py",
   "mimetype": "text/x-python",
   "name": "python",
   "nbconvert_exporter": "python",
   "pygments_lexer": "ipython3",
   "version": "3.12.4"
  }
 },
 "nbformat": 4,
 "nbformat_minor": 5
}
